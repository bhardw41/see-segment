{
 "cells": [
  {
   "cell_type": "code",
   "execution_count": 1,
   "id": "042e9879",
   "metadata": {},
   "outputs": [],
   "source": [
    "# Path hack so that we can import see library.\n",
    "import sys, os\n",
    "sys.path.insert(0, os.path.abspath('..'))"
   ]
  },
  {
   "cell_type": "code",
   "execution_count": 2,
   "id": "8a2e0c00",
   "metadata": {},
   "outputs": [],
   "source": [
    "# Import dataset\n",
    "from sklearn.datasets import make_moons, make_circles\n",
    "from sklearn.preprocessing import StandardScaler\n",
    "\n",
    "X, y = make_circles(random_state=42, noise=0.2)\n",
    "X = StandardScaler().fit_transform(X) # Optional scaling\n",
    "\n",
    "# Create dataset using see-classify helper functions\n",
    "from see.classifier_helpers.helpers import generate_train_test_set\n",
    "\n",
    "pipeline_data = generate_train_test_set(X, y)\n",
    "training_set = pipeline_data.training_set\n",
    "testing_set = pipeline_data.testing_set"
   ]
  },
  {
   "cell_type": "code",
   "execution_count": 3,
   "id": "86dba655",
   "metadata": {},
   "outputs": [],
   "source": [
    "from see import JupyterGUI\n",
    "from see.classifiers import Classifier"
   ]
  },
  {
   "cell_type": "code",
   "execution_count": 4,
   "id": "e7e3bd71",
   "metadata": {},
   "outputs": [
    {
     "data": {
      "application/vnd.jupyter.widget-view+json": {
       "model_id": "1d198c1292684c39ade602eb51b611b4",
       "version_major": 2,
       "version_minor": 0
      },
      "text/plain": [
       "Dropdown(description='Choose Algorithm:', index=3, options=('Ada Boost', 'Decision Tree', 'Extra Trees', 'Gaus…"
      ]
     },
     "metadata": {},
     "output_type": "display_data"
    },
    {
     "name": "stdout",
     "output_type": "stream",
     "text": [
      "Perform Gaussian Naive Bayes classification algorithm.\n",
      "\n",
      "algorithm_name='Gaussian Naive Bayes'\n"
     ]
    }
   ],
   "source": [
    "# Pick algorithm\n",
    "\n",
    "alg = JupyterGUI.picksegment(list(Classifier.algorithmspace.keys()), Classifier)"
   ]
  },
  {
   "cell_type": "code",
   "execution_count": 6,
   "id": "c3f109f9",
   "metadata": {},
   "outputs": [
    {
     "data": {
      "application/vnd.jupyter.widget-view+json": {
       "model_id": "4b77bd6ec8ca4a928859249a78d38c5e",
       "version_major": 2,
       "version_minor": 0
      },
      "text/plain": [
       "GridBox(children=(SelectionSlider(continuous_update=False, description='var_smoothing', index=9, options=(1e-1…"
      ]
     },
     "metadata": {},
     "output_type": "display_data"
    },
    {
     "data": {
      "application/vnd.jupyter.widget-view+json": {
       "model_id": "58d5f3d883204c34b353fa253f6ecb32",
       "version_major": 2,
       "version_minor": 0
      },
      "text/plain": [
       "Output()"
      ]
     },
     "metadata": {},
     "output_type": "display_data"
    }
   ],
   "source": [
    "# Manual tune parameters\n",
    "\n",
    "params = JupyterGUI.classify_widget(training_set, testing_set, params = None, alg = alg.value)"
   ]
  },
  {
   "cell_type": "markdown",
   "id": "0ea4e6bb",
   "metadata": {},
   "source": [
    "# This cell is left empty so that the classify\n",
    "# widget cell will not shift out of focus when rerunning it."
   ]
  },
  {
   "cell_type": "markdown",
   "id": "a0e1f6f1",
   "metadata": {},
   "source": [
    "# This cell is left empty so that the classify\n",
    "# widget cell will not shift out of focus when rerunning it."
   ]
  },
  {
   "cell_type": "markdown",
   "id": "0fc9d603",
   "metadata": {},
   "source": [
    "# This cell is left empty so that the classify\n",
    "# widget cell will not shift out of focus when rerunning it."
   ]
  }
 ],
 "metadata": {
  "kernelspec": {
   "display_name": "Python 3",
   "language": "python",
   "name": "python3"
  },
  "language_info": {
   "codemirror_mode": {
    "name": "ipython",
    "version": 3
   },
   "file_extension": ".py",
   "mimetype": "text/x-python",
   "name": "python",
   "nbconvert_exporter": "python",
   "pygments_lexer": "ipython3",
   "version": "3.9.5"
  }
 },
 "nbformat": 4,
 "nbformat_minor": 5
}
