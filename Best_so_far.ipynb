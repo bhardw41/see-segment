{
 "cells": [
  {
   "cell_type": "markdown",
   "metadata": {},
   "source": [
    "# Best so far\n",
    "\n",
    "For each image in the ```Image_data/Examples/``` folder there is a txt file which is supposed to keep track of the best algorithm found for that particular image.  Each time we run see-segment it could find a better algorithm so this is our way of keeping up with the best.  \n",
    "\n",
    "This jupyter notebook reads though the files and displays the results of the best so far for each fo the examples. \n"
   ]
  },
  {
   "cell_type": "markdown",
   "metadata": {},
   "source": [
    "#TODO This workflow is not complete. We are not yet checking in the bestsofar txt files in the directory so running this on a clean build will just show the input image and ground truth."
   ]
  },
  {
   "cell_type": "code",
   "execution_count": null,
   "metadata": {},
   "outputs": [],
   "source": [
    "def read_pop(filename):\n",
    "    \"\"\"Read Text output\"\"\"\n",
    "    print(f\"Reading in {filename}\")\n",
    "    inlist = []\n",
    "    fitness = []\n",
    "    with open(filename,'r') as myfile:\n",
    "        for line in myfile:\n",
    "            if (len(line) > 1):\n",
    "                x,fit,pop = eval(line)\n",
    "                inlist.append(pop)\n",
    "                fitness.append(fit)\n",
    "    return inlist, fitness"
   ]
  },
  {
   "cell_type": "code",
   "execution_count": null,
   "metadata": {},
   "outputs": [],
   "source": [
    "from pathlib import Path\n",
    "def getimages(folder='Image_data/Examples/'):\n",
    "    #def pickimage(\n",
    "\n",
    "    directory = Path(folder)\n",
    "\n",
    "    allfiles = sorted(directory.glob('*'))\n",
    "\n",
    "    filelist = []\n",
    "    masklist = []\n",
    "    progresslist = []\n",
    "    for file in allfiles:\n",
    "        if file.suffix ==\".jpg\" or file.suffix ==\".jpeg\" or file.suffix ==\".JPEG\" or file.suffix ==\".png\":\n",
    "            if not \"_GT\" in file.name:\n",
    "                filelist.append(file)\n",
    "                mask = directory.glob(f\"{file.stem}_GT*\")\n",
    "                for m in mask:\n",
    "                    masklist.append(m)\n",
    "                progresslist.append(Path(f\"{folder}/_{file.stem}.txt\"))\n",
    "    return filelist, masklist, progresslist"
   ]
  },
  {
   "cell_type": "code",
   "execution_count": null,
   "metadata": {},
   "outputs": [],
   "source": [
    "directory = \"./Image_data/Examples/\"\n",
    "[images, masks, progresslist] = getimages(directory)"
   ]
  },
  {
   "cell_type": "code",
   "execution_count": null,
   "metadata": {
    "scrolled": false
   },
   "outputs": [],
   "source": [
    "import numpy as np\n",
    "from see.Segmentors import segmentor\n",
    "from see.ColorSpace import colorspace\n",
    "from see.Workflow import workflow\n",
    "from see.Segment_Fitness import segment_fitness\n",
    "from see import base_classes \n",
    "from see.git_version import git_version\n",
    "from see import GeneticSearch, Segmentors\n",
    "import matplotlib.pylab as plt\n",
    "import imageio\n",
    "\n",
    "fig = plt.figure(figsize=(20, 40))\n",
    "\n",
    "rows = len(images)\n",
    "\n",
    "row = 0\n",
    "for imfile, gtfile, bestfile in zip(images, masks, progresslist):\n",
    "    mydata = base_classes.pipedata()\n",
    "    mydata.img = imageio.imread(imfile)\n",
    "    mydata.gmask = imageio.imread(gtfile) \n",
    "    \n",
    "    my_ax = fig.add_subplot(rows, 3, 1+row*3)\n",
    "    my_ax.imshow(mydata.img)\n",
    "    my_ax.axis('off')\n",
    "    \n",
    "    my_ax = fig.add_subplot(rows, 3, 2+row*3)\n",
    "    my_ax.imshow(mydata.gmask)\n",
    "    my_ax.axis('off')\n",
    "    \n",
    "    if bestfile.exists():\n",
    "        [inlist, fitness] = read_pop(bestfile)\n",
    "        best = inlist[np.argmin(fitness)]\n",
    "\n",
    "        workflow.addalgos([colorspace, segmentor, segment_fitness])\n",
    "        wf = workflow(paramlist=best)\n",
    "\n",
    "        mydata = wf.pipe(mydata)\n",
    "\n",
    "        my_ax = fig.add_subplot(rows, 3, 3+row*3)\n",
    "        my_ax.imshow(mydata.mask)\n",
    "        my_ax.set_title(np.min(fitness))\n",
    "        my_ax.axis('off')\n",
    "    row = row+1"
   ]
  },
  {
   "cell_type": "code",
   "execution_count": null,
   "metadata": {},
   "outputs": [],
   "source": []
  }
 ],
 "metadata": {
  "kernelspec": {
   "display_name": "Python 3 (ipykernel)",
   "language": "python",
   "name": "python3"
  },
  "language_info": {
   "codemirror_mode": {
    "name": "ipython",
    "version": 3
   },
   "file_extension": ".py",
   "mimetype": "text/x-python",
   "name": "python",
   "nbconvert_exporter": "python",
   "pygments_lexer": "ipython3",
   "version": "3.9.7"
  }
 },
 "nbformat": 4,
 "nbformat_minor": 4
}
