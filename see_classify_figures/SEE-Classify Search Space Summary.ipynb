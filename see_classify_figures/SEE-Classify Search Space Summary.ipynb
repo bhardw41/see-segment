{
 "cells": [
  {
   "cell_type": "markdown",
   "id": "79c01743",
   "metadata": {},
   "source": [
    "# Search Space Summary\n",
    "The purpose of this notebook is to provide a summary of the search space. In this notebook, we describe the size of the search space as well as the number of unique individuals for each classifier. This will help understand what portion of the search space is meaningful because many algo-vectors are distinct but not meaningfully different. For example, even though K-Neighbors only uses one parameter that has a range 30 values, there will be much more than 30 algorithms_vectors that share the name \"K Nearest Neighbors\"."
   ]
  },
  {
   "cell_type": "code",
   "execution_count": 1,
   "id": "cbca8c00",
   "metadata": {},
   "outputs": [],
   "source": [
    "# Path hack so that we can import see library.\n",
    "import sys, os\n",
    "sys.path.insert(0, os.path.abspath('..'))"
   ]
  },
  {
   "cell_type": "code",
   "execution_count": 2,
   "id": "82630f5a",
   "metadata": {},
   "outputs": [],
   "source": [
    "from see.classifiers import Classifier, ClassifierParams, AdaBoostContainer"
   ]
  },
  {
   "cell_type": "markdown",
   "id": "8ec03283",
   "metadata": {},
   "source": [
    "Use search space for Dhahri 2019 (i.e. Wisconsin Breast Cancer Dataset)"
   ]
  },
  {
   "cell_type": "code",
   "execution_count": 3,
   "id": "8a57d4ff",
   "metadata": {},
   "outputs": [
    {
     "name": "stdout",
     "output_type": "stream",
     "text": [
      "['Ada Boost', 'Decision Tree', 'Extra Trees', 'Gaussian Naive Bayes', 'Gradient Boosting', 'Linear Discriminant Analysis', 'Logistic Regression', 'K Nearest Neighbors', 'Random Forest', 'SVC']\n"
     ]
    }
   ],
   "source": [
    "Classifier.use_dhahri_space()\n",
    "algorithm_space = Classifier.algorithmspace\n",
    "print(list(algorithm_space.keys())) # Check algorithm space"
   ]
  },
  {
   "cell_type": "code",
   "execution_count": 9,
   "id": "b497e31e",
   "metadata": {},
   "outputs": [
    {
     "data": {
      "text/html": [
       "<style  type=\"text/css\" >\n",
       "</style><table id=\"T_d0b4a_\" ><caption>Includes redundant individuals</caption><thead>    <tr>        <th class=\"blank level0\" ></th>        <th class=\"col_heading level0 col0\" >Size</th>    </tr></thead><tbody>\n",
       "                <tr>\n",
       "                        <th id=\"T_d0b4a_level0_row0\" class=\"row_heading level0 row0\" >Search Space</th>\n",
       "                        <td id=\"T_d0b4a_row0_col0\" class=\"data row0 col0\" >1.248670e+13</td>\n",
       "            </tr>\n",
       "    </tbody></table>"
      ],
      "text/plain": [
       "<pandas.io.formats.style.Styler at 0x2b808e18b430>"
      ]
     },
     "execution_count": 9,
     "metadata": {},
     "output_type": "execute_result"
    }
   ],
   "source": [
    "import pandas as pd\n",
    "\n",
    "# Report search space size\n",
    "search_space_size = 1\n",
    "\n",
    "# Loop through the parameter space\n",
    "for key in ClassifierParams.pkeys:\n",
    "    search_space_size *= len(ClassifierParams.ranges[key])\n",
    "\n",
    "# Includes individuals where changes do not matter\n",
    "# Use string to force pandas to show value in scientific notation\n",
    "df_space = pd.DataFrame(\n",
    "    data=[\"{:e}\".format(search_space_size)], columns=[\"Size\"], index=[\"Search Space\"]\n",
    ")\n",
    "df_space.style.set_caption(\"Includes redundant individuals\")"
   ]
  },
  {
   "cell_type": "markdown",
   "id": "5b332c74",
   "metadata": {},
   "source": [
    "Calculate the number of unique individuals"
   ]
  },
  {
   "cell_type": "code",
   "execution_count": 5,
   "id": "047db87e",
   "metadata": {},
   "outputs": [],
   "source": [
    "# Report number of unique individuals for each classifier with actual relevant changes to parameters\n",
    "unique_space = 0\n",
    "\n",
    "unique_clf = {}\n",
    "\n",
    "for clf_name in algorithm_space:\n",
    "    unique_clf_count = 1\n",
    "    container = algorithm_space[clf_name]()\n",
    "    for key in container.paramindexes:\n",
    "        unique_clf_count *= len(ClassifierParams.ranges[key])\n",
    "\n",
    "    unique_clf[clf_name] = unique_clf_count\n",
    "\n",
    "    unique_space += unique_clf_count"
   ]
  },
  {
   "cell_type": "code",
   "execution_count": 6,
   "id": "32f72401",
   "metadata": {},
   "outputs": [
    {
     "data": {
      "text/html": [
       "<div>\n",
       "<style scoped>\n",
       "    .dataframe tbody tr th:only-of-type {\n",
       "        vertical-align: middle;\n",
       "    }\n",
       "\n",
       "    .dataframe tbody tr th {\n",
       "        vertical-align: top;\n",
       "    }\n",
       "\n",
       "    .dataframe thead th {\n",
       "        text-align: right;\n",
       "    }\n",
       "</style>\n",
       "<table border=\"1\" class=\"dataframe\">\n",
       "  <thead>\n",
       "    <tr style=\"text-align: right;\">\n",
       "      <th></th>\n",
       "      <th>Unique individuals</th>\n",
       "    </tr>\n",
       "  </thead>\n",
       "  <tbody>\n",
       "    <tr>\n",
       "      <th>Ada Boost</th>\n",
       "      <td>140</td>\n",
       "    </tr>\n",
       "    <tr>\n",
       "      <th>Decision Tree</th>\n",
       "      <td>31</td>\n",
       "    </tr>\n",
       "    <tr>\n",
       "      <th>Extra Trees</th>\n",
       "      <td>620</td>\n",
       "    </tr>\n",
       "    <tr>\n",
       "      <th>Gaussian Naive Bayes</th>\n",
       "      <td>37</td>\n",
       "    </tr>\n",
       "    <tr>\n",
       "      <th>Gradient Boosting</th>\n",
       "      <td>140</td>\n",
       "    </tr>\n",
       "    <tr>\n",
       "      <th>Linear Discriminant Analysis</th>\n",
       "      <td>1</td>\n",
       "    </tr>\n",
       "    <tr>\n",
       "      <th>Logistic Regression</th>\n",
       "      <td>60</td>\n",
       "    </tr>\n",
       "    <tr>\n",
       "      <th>K Nearest Neighbors</th>\n",
       "      <td>30</td>\n",
       "    </tr>\n",
       "    <tr>\n",
       "      <th>Random Forest</th>\n",
       "      <td>620</td>\n",
       "    </tr>\n",
       "    <tr>\n",
       "      <th>SVC</th>\n",
       "      <td>360</td>\n",
       "    </tr>\n",
       "    <tr>\n",
       "      <th>Total</th>\n",
       "      <td>2039</td>\n",
       "    </tr>\n",
       "  </tbody>\n",
       "</table>\n",
       "</div>"
      ],
      "text/plain": [
       "                              Unique individuals\n",
       "Ada Boost                                    140\n",
       "Decision Tree                                 31\n",
       "Extra Trees                                  620\n",
       "Gaussian Naive Bayes                          37\n",
       "Gradient Boosting                            140\n",
       "Linear Discriminant Analysis                   1\n",
       "Logistic Regression                           60\n",
       "K Nearest Neighbors                           30\n",
       "Random Forest                                620\n",
       "SVC                                          360\n",
       "Total                                       2039"
      ]
     },
     "execution_count": 6,
     "metadata": {},
     "output_type": "execute_result"
    }
   ],
   "source": [
    "df_unique = pd.DataFrame(\n",
    "    data=unique_clf.values(), index=unique_clf.keys(), columns=[\"Unique individuals\"]\n",
    ")\n",
    "df_unique.append(df.sum().rename(\"Total\"))"
   ]
  }
 ],
 "metadata": {
  "kernelspec": {
   "display_name": "Python 3",
   "language": "python",
   "name": "python3"
  },
  "language_info": {
   "codemirror_mode": {
    "name": "ipython",
    "version": 3
   },
   "file_extension": ".py",
   "mimetype": "text/x-python",
   "name": "python",
   "nbconvert_exporter": "python",
   "pygments_lexer": "ipython3",
   "version": "3.9.5"
  }
 },
 "nbformat": 4,
 "nbformat_minor": 5
}
