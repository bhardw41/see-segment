{
 "cells": [
  {
   "cell_type": "markdown",
   "id": "17517c7e",
   "metadata": {},
   "source": [
    "# Validation Testing\n",
    "The purpose of this notebook is to test the validation scores of the best found solutions at the end of the GA. The data used in this notebook was generated at hash eb2782bad9d504d0892da01c63c29c5eb5b0d01e."
   ]
  },
  {
   "cell_type": "code",
   "execution_count": 1,
   "id": "36604b1e",
   "metadata": {},
   "outputs": [
    {
     "data": {
      "text/markdown": [
       "\n",
       "To generate data, run:\n",
       "- for sklearn\n",
       "    ```bash\n",
       "sbatch generate_sklearn_data.sb -n 10 -p 10\n",
       "    ```\n",
       "- for dhahri\n",
       "    ```bash\n",
       "sbatch generate_dhahri_data.sb -n 20 -p 100 -t 30\n",
       "    ```\n",
       "These commands generate files for running genetic search using 10 generations and population size of 10\n",
       "for the sklearn tutorial and 20 generations with population size of 100\n",
       "for the Breast Cancer Wisconsin (Diagnostic) Dataset respectively.\n",
       "\n",
       "The `-n`, `-p`, `-t` flags control number of generations, population sizes, \n",
       "and number of trials respectively.\n",
       "\n",
       "The data generated tracks the top 10 individuals and the population by\n",
       "each generation and is stored in the corresponding output \n",
       "(i.e. the slurm_\\[id\\].out file).\n",
       "\n",
       "To extract this data to a csv file, run:\n",
       "- for the top 10 individuals:\n",
       "    ```bash\n",
       "grep \"# GEN HOF_index\" slurm_[id].out | cut -d '|' -f2 > \"filename_1.csv\"\n",
       "    ```\n",
       "- for the population:\n",
       "    ```bash\n",
       "grep \"# GEN population_index\" slurm_[id].out | cut -d '|' -f2 > \"filename_2.csv\"\n",
       "    ```\n",
       "    \n",
       "If one has multiple output files that contain different trials of the same\n",
       "type of GA run, one could try the moving all the relevant files into \n",
       "one directory, changing to that directory, and running the following commands instead:\n",
       "- for the top 10 individuals:\n",
       "    ```bash\n",
       "grep \"# GEN HOF_index\" *.out | cut -d '|' -f2 > \"filename_1.csv\"\n",
       "    ```\n",
       "- for the population:\n",
       "    ```bash\n",
       "grep \"# GEN population_index\" *.out | cut -d '|' -f2 > \"filename_2.csv\"\n",
       "    ```\n"
      ],
      "text/plain": [
       "<IPython.core.display.Markdown object>"
      ]
     },
     "metadata": {},
     "output_type": "display_data"
    }
   ],
   "source": [
    "from figures_markdown_snippets import show_data_instructions\n",
    "\n",
    "show_data_instructions()"
   ]
  },
  {
   "cell_type": "code",
   "execution_count": 2,
   "id": "730273b1",
   "metadata": {},
   "outputs": [],
   "source": [
    "# Path hack so that we can import see library.\n",
    "import sys, os\n",
    "\n",
    "sys.path.insert(0, os.path.abspath(\"..\"))"
   ]
  },
  {
   "cell_type": "code",
   "execution_count": 3,
   "id": "d07ae4f3",
   "metadata": {},
   "outputs": [],
   "source": [
    "# Set data files path names\n",
    "hof_filepath = f\"../data/0730_dhahri_simple_data/pop_size_100/dhahri_2019_hof_100_100.csv\"\n",
    "population_filepath = f\"../0730_dhahri_simple_data/pop_size_100/dhahri_2019_population_100_100.csv\""
   ]
  },
  {
   "cell_type": "code",
   "execution_count": 4,
   "id": "7a73cf6d",
   "metadata": {},
   "outputs": [],
   "source": [
    "# Import Helper functions\n",
    "from figures_helpers import (\n",
    "    extract_hof_population,\n",
    "    create_hof_at_gen,\n",
    "    create_learning_curve,\n",
    "    plot_learning_curve,\n",
    ")"
   ]
  },
  {
   "cell_type": "code",
   "execution_count": 5,
   "id": "b96c6614",
   "metadata": {},
   "outputs": [],
   "source": [
    "# List details about GA runs\n",
    "num_gen = 100\n",
    "pop_size = 100\n",
    "num_trials = 100\n",
    "hof_size = 10"
   ]
  },
  {
   "cell_type": "code",
   "execution_count": 6,
   "id": "2b12fb0e",
   "metadata": {},
   "outputs": [],
   "source": [
    "# Generate hall of fame from the final generation\n",
    "\n",
    "best_hof, best_hof_individuals = create_hof_at_gen(\n",
    "    hof_filepath, num_gen, pop_size, num_trials, hof_size, at_gen=num_gen\n",
    ")"
   ]
  },
  {
   "cell_type": "code",
   "execution_count": 7,
   "id": "9491ded0",
   "metadata": {},
   "outputs": [],
   "source": [
    "import pandas as pd\n",
    "import numpy as np\n",
    "from see import classifiers\n",
    "from see.classifier_helpers.helpers import generate_train_test_set\n",
    "from see.classifier_helpers.fetch_data import fetch_wisconsin_data\n",
    "\n",
    "from sklearn.preprocessing import StandardScaler, label_binarize\n",
    "\n",
    "# Breast Cancer Data\n",
    "X, y = fetch_wisconsin_data()\n",
    "\n",
    "# Preprocess data\n",
    "X = StandardScaler().fit_transform(X)\n",
    "\n",
    "# Recreate training, test and validation sets\n",
    "temp = generate_train_test_set(X, y, test_size=0.2)\n",
    "validation_set = temp.testing_set\n",
    "temp = generate_train_test_set(temp.training_set.X, temp.training_set.y, test_size=0.25)\n",
    "training_set = temp.training_set\n",
    "testing_set = temp.testing_set"
   ]
  },
  {
   "cell_type": "code",
   "execution_count": 8,
   "id": "6809a6b6",
   "metadata": {},
   "outputs": [],
   "source": [
    "hof_portion = best_hof\n",
    "\n",
    "# Quick HACK:\n",
    "# This plot/notebook takes a long time to fully complete running\n",
    "# if it uses all of the hall of fame members (even for a specific generation).\n",
    "# For speed, we extract the first five of the hall of fame.\n",
    "# One should comment out this cell when intending to\n",
    "# create this figure with all of the data.\n",
    "\n",
    "# Comment out the line below\n",
    "# and rerun the notebook from the beginning \n",
    "# to properly making figure.\n",
    "\n",
    "hof_portion = best_hof[:100] # extract first 'n' members"
   ]
  },
  {
   "cell_type": "code",
   "execution_count": 9,
   "id": "ad4f877d",
   "metadata": {
    "scrolled": true
   },
   "outputs": [
    {
     "name": "stdout",
     "output_type": "stream",
     "text": [
      "Done with individual:  0\n",
      "Done with individual:  1\n",
      "Done with individual:  2\n",
      "Done with individual:  3\n",
      "Done with individual:  4\n",
      "Done with individual:  5\n",
      "Done with individual:  6\n",
      "Done with individual:  7\n",
      "Done with individual:  8\n",
      "Done with individual:  9\n",
      "Done with individual:  10\n",
      "Done with individual:  11\n",
      "Done with individual:  12\n",
      "Done with individual:  13\n",
      "Done with individual:  14\n",
      "Done with individual:  15\n",
      "Done with individual:  16\n",
      "Done with individual:  17\n",
      "Done with individual:  18\n",
      "Done with individual:  19\n",
      "Done with individual:  20\n",
      "Done with individual:  21\n",
      "Done with individual:  22\n",
      "Done with individual:  23\n",
      "Done with individual:  24\n",
      "Done with individual:  25\n",
      "Done with individual:  26\n",
      "Done with individual:  27\n",
      "Done with individual:  28\n",
      "Done with individual:  29\n",
      "Done with individual:  30\n",
      "Done with individual:  31\n",
      "Done with individual:  32\n",
      "Done with individual:  33\n",
      "Done with individual:  34\n",
      "Done with individual:  35\n",
      "Done with individual:  36\n",
      "Done with individual:  37\n",
      "Done with individual:  38\n",
      "Done with individual:  39\n",
      "Done with individual:  40\n",
      "Done with individual:  41\n",
      "Done with individual:  42\n",
      "Done with individual:  43\n",
      "Done with individual:  44\n",
      "Done with individual:  45\n",
      "Done with individual:  46\n",
      "Done with individual:  47\n",
      "Done with individual:  48\n",
      "Done with individual:  49\n",
      "Done with individual:  50\n",
      "Done with individual:  51\n",
      "Done with individual:  52\n",
      "Done with individual:  53\n",
      "Done with individual:  54\n",
      "Done with individual:  55\n",
      "Done with individual:  56\n",
      "Done with individual:  57\n",
      "Done with individual:  58\n",
      "Done with individual:  59\n",
      "Done with individual:  60\n",
      "Done with individual:  61\n",
      "Done with individual:  62\n",
      "Done with individual:  63\n",
      "Done with individual:  64\n",
      "Done with individual:  65\n",
      "Done with individual:  66\n",
      "Done with individual:  67\n",
      "Done with individual:  68\n",
      "Done with individual:  69\n",
      "Done with individual:  70\n",
      "Done with individual:  71\n",
      "Done with individual:  72\n",
      "Done with individual:  73\n",
      "Done with individual:  74\n",
      "Done with individual:  75\n",
      "Done with individual:  76\n",
      "Done with individual:  77\n",
      "Done with individual:  78\n",
      "Done with individual:  79\n",
      "Done with individual:  80\n",
      "Done with individual:  81\n",
      "Done with individual:  82\n",
      "Done with individual:  83\n",
      "Done with individual:  84\n",
      "Done with individual:  85\n",
      "Done with individual:  86\n",
      "Done with individual:  87\n",
      "Done with individual:  88\n",
      "Done with individual:  89\n",
      "Done with individual:  90\n",
      "Done with individual:  91\n",
      "Done with individual:  92\n",
      "Done with individual:  93\n",
      "Done with individual:  94\n",
      "Done with individual:  95\n",
      "Done with individual:  96\n",
      "Done with individual:  97\n",
      "Done with individual:  98\n",
      "Done with individual:  99\n"
     ]
    }
   ],
   "source": [
    "# Generate learning curve Data\n",
    "train_sizes, train_matrix, validation_matrix = create_learning_curve(training_set, validation_set, hof_portion)"
   ]
  },
  {
   "cell_type": "code",
   "execution_count": 15,
   "id": "dab7c3b2",
   "metadata": {},
   "outputs": [
    {
     "data": {
      "text/plain": [
       "<matplotlib.legend.Legend at 0x7fafae4cb970>"
      ]
     },
     "execution_count": 15,
     "metadata": {},
     "output_type": "execute_result"
    },
    {
     "data": {
      "image/png": "[encoded data removed]",
      "text/plain": [
       "<Figure size 720x360 with 1 Axes>"
      ]
     },
     "metadata": {
      "needs_background": "light"
     },
     "output_type": "display_data"
    }
   ],
   "source": [
    "axs = plot_learning_curve(train_sizes, train_matrix, validation_matrix)\n",
    "\n",
    "# Plot Expected Region during GA\n",
    "ga_mean = np.repeat(best_hof_individuals[:, 2].mean(), len(train_sizes))\n",
    "ga_std = np.repeat(best_hof_individuals[:, 2].std(), len(train_sizes))\n",
    "\n",
    "alpha = 0.3\n",
    "\n",
    "gray = \"#999999\"\n",
    "\n",
    "# Add expected range from data during the GA\n",
    "axs.fill_between(\n",
    "    train_sizes, ga_mean - 2 * ga_std, ga_mean + 2 * ga_std, alpha=alpha, color=gray\n",
    ")\n",
    "\n",
    "axs.plot(\n",
    "    train_sizes,\n",
    "    ga_mean,\n",
    "    \"-\",\n",
    "    color=gray,\n",
    "    label=\"Mean GA Testing Fitness\",\n",
    "    linewidth=1.5,\n",
    ")\n",
    "\n",
    "# Regenerate the legend\n",
    "axs.legend()"
   ]
  }
 ],
 "metadata": {
  "kernelspec": {
   "display_name": "Python 3",
   "language": "python",
   "name": "python3"
  },
  "language_info": {
   "codemirror_mode": {
    "name": "ipython",
    "version": 3
   },
   "file_extension": ".py",
   "mimetype": "text/x-python",
   "name": "python",
   "nbconvert_exporter": "python",
   "pygments_lexer": "ipython3",
   "version": "3.9.5"
  }
 },
 "nbformat": 4,
 "nbformat_minor": 5
}
