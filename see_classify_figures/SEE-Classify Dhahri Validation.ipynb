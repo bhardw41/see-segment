{
 "cells": [
  {
   "cell_type": "markdown",
   "id": "17517c7e",
   "metadata": {},
   "source": [
    "# Validation Testing\n",
    "The purpose of this notebook is to test the validation scores of the best found solutions at the end of the GA."
   ]
  },
  {
   "cell_type": "code",
   "execution_count": 1,
   "id": "36604b1e",
   "metadata": {},
   "outputs": [
    {
     "data": {
      "text/markdown": [
       "\n",
       "To generate data, run:\n",
       "- for sklearn\n",
       "    ```bash\n",
       "sbatch generate_sklearn_data.sb -n 10 -p 10\n",
       "    ```\n",
       "- for dhahri\n",
       "    ```bash\n",
       "sbatch generate_dhahri_data.sb -n 20 -p 100 -t 30\n",
       "    ```\n",
       "These commands generate files for running genetic search using 10 generations and population size of 10\n",
       "for the sklearn tutorial and 20 generations with population size of 100\n",
       "for the Breast Cancer Wisconsin (Diagnostic) Dataset respectively.\n",
       "\n",
       "The `-n`, `-p`, `-t` flags control number of generations, population sizes, \n",
       "and number of trials respectively.\n",
       "\n",
       "The data generated tracks the top 10 individuals and the population by\n",
       "each generation and is stored in the corresponding output \n",
       "(i.e. the slurm_\\[id\\].out file).\n",
       "\n",
       "To extract this data to a csv file, run:\n",
       "- for the top 10 individuals:\n",
       "    ```bash\n",
       "grep \"# GEN HOF_index\" slurm_[id].out | cut -d '|' -f2 > \"filename_1.csv\"\n",
       "    ```\n",
       "- for the population:\n",
       "    ```bash\n",
       "grep \"# GEN population_index\" slurm_[id].out | cut -d '|' -f2 > \"filename_2.csv\"\n",
       "    ```\n"
      ],
      "text/plain": [
       "<IPython.core.display.Markdown object>"
      ]
     },
     "metadata": {},
     "output_type": "display_data"
    }
   ],
   "source": [
    "from figures_markdown_snippets import show_data_instructions\n",
    "\n",
    "show_data_instructions()"
   ]
  },
  {
   "cell_type": "code",
   "execution_count": 2,
   "id": "730273b1",
   "metadata": {},
   "outputs": [],
   "source": [
    "# Path hack so that we can import see library.\n",
    "import sys, os\n",
    "\n",
    "sys.path.insert(0, os.path.abspath(\"..\"))"
   ]
  },
  {
   "cell_type": "code",
   "execution_count": 3,
   "id": "d07ae4f3",
   "metadata": {},
   "outputs": [],
   "source": [
    "# Set data files path names\n",
    "hof_filepath = f\"../0727_dhahri_simple_data/dhahri_2019_hof_20_100.csv\"\n",
    "population_filepath = f\"../0727_dhahri_simple_data/dhahri_2019_population_20_100.csv\""
   ]
  },
  {
   "cell_type": "code",
   "execution_count": 4,
   "id": "7a73cf6d",
   "metadata": {},
   "outputs": [],
   "source": [
    "# Helper functions\n",
    "\n",
    "def extract_hof_population(\n",
    "    hof_filepath,\n",
    "    num_gen=100,\n",
    "    pop_size=100,\n",
    "    num_trials=30,\n",
    "    hof_size=10,\n",
    "):\n",
    "    import pandas as pd\n",
    "\n",
    "    hof_df = pd.read_csv(hof_filepath, header=None, delimiter=\";\")\n",
    "    return hof_df\n",
    "\n",
    "\n",
    "def create_hof_at_gen(hof_filepath, num_gen, pop_size, num_trials, hof_size, at_gen=0):\n",
    "    import ast\n",
    "\n",
    "    hof_df = extract_hof_population(\n",
    "        hof_filepath, num_gen, pop_size, num_trials, hof_size\n",
    "    )\n",
    "\n",
    "    hof_list = hof_df[hof_df[0] == at_gen].to_numpy()\n",
    "    hof_containers = list(map(ast.literal_eval, hof_list[:, 3]))\n",
    "    return hof_containers, hof_list\n",
    "\n",
    "def create_learning_curve(training_set, validation_set, containers):\n",
    "    # learning curve\n",
    "    from see.classifiers import Classifier\n",
    "    import numpy as np\n",
    "\n",
    "    train_sizes = np.linspace(30, len(training_set.X), num=10, dtype=int)\n",
    "    validation_matrix = np.zeros((len(containers), len(train_sizes)))\n",
    "    train_matrix = np.zeros((len(containers), len(train_sizes)))\n",
    "\n",
    "    for index, individual in enumerate(containers):\n",
    "\n",
    "        temp = Classifier.algorithmspace[individual[0]](individual)\n",
    "        clf = temp.create_clf()\n",
    "        test_scores = np.zeros(len(train_sizes))\n",
    "        train_scores = np.zeros(len(train_sizes))\n",
    "\n",
    "        for i, portion in enumerate(train_sizes):\n",
    "            temp_X = training_set.X[0:portion]\n",
    "            temp_y = training_set.y[0:portion]\n",
    "            clf.fit(temp_X, temp_y)\n",
    "\n",
    "            train_score = clf.score(temp_X, temp_y)\n",
    "            train_scores[i] = 1 - train_score\n",
    "\n",
    "            validation_score = clf.score(validation_set.X, validation_set.y)\n",
    "            test_scores[i] = 1 - validation_score\n",
    "        validation_matrix[index, :] = test_scores\n",
    "        train_matrix[index, :] = train_scores\n",
    "        print(index)\n",
    "    return train_sizes, train_matrix, validation_matrix\n",
    "\n",
    "def plot_learning_curve(train_sizes, train_matrix, validation_matrix, axs=None):\n",
    "    import matplotlib.pyplot as plt\n",
    "\n",
    "    if axs == None:\n",
    "        fig, axs = plt.subplots(1, 1, figsize=(10, 5))\n",
    "    train_scores_mean = np.mean(train_matrix, axis=0)\n",
    "    train_scores_std = np.std(train_matrix, axis=0)\n",
    "    test_scores_mean = np.mean(validation_matrix, axis=0)\n",
    "    test_scores_std = np.std(validation_matrix, axis=0)\n",
    "\n",
    "    # Plot learning curve\n",
    "    axs.grid()\n",
    "\n",
    "    alpha = 0.3\n",
    "    train_low_bound = train_scores_mean - 2 * train_scores_std\n",
    "    train_low_bound[train_low_bound < 0] = 0  # Remove negative values\n",
    "\n",
    "    blue = \"#377eb8\"\n",
    "    red = \"#e41a1c\"\n",
    "    gray = \"#999999\"\n",
    "\n",
    "    axs.fill_between(\n",
    "        train_sizes,\n",
    "        train_low_bound,\n",
    "        train_scores_mean + 2 * train_scores_std,\n",
    "        alpha=alpha,\n",
    "        color=blue,\n",
    "    )\n",
    "\n",
    "    axs.plot(\n",
    "        train_sizes, train_scores_mean, \"o-\", color=blue, label=\"Mean Training Fitness\"\n",
    "    )\n",
    "\n",
    "    axs.fill_between(\n",
    "        train_sizes,\n",
    "        test_scores_mean - 2 * test_scores_std,\n",
    "        test_scores_mean + 2 * test_scores_std,\n",
    "        alpha=alpha,\n",
    "        color=red,\n",
    "    )\n",
    "\n",
    "    axs.plot(\n",
    "        train_sizes, test_scores_mean, \"x-\", color=red, label=\"Mean Validation Fitness\"\n",
    "    )\n",
    "\n",
    "    plt.xlim(0, 350)\n",
    "\n",
    "    axs.legend(loc=\"best\")\n",
    "\n",
    "    axs.tick_params(which=\"both\", direction=\"in\", labelsize=14)\n",
    "\n",
    "    plt.title(\"Evaluate Best Found Solutions\", fontdict={\"fontsize\": 24})\n",
    "\n",
    "    axs.set_xlabel(\"Training Sizes\", fontdict={\"fontsize\": 20})\n",
    "    axs.set_ylabel(\"Fitness Scores\", fontdict={\"fontsize\": 20})\n",
    "\n",
    "    fig.text(0, -0.03, \"* Shaded regions are 2 STD\\n from means\")\n",
    "    plt.tight_layout()\n",
    "\n",
    "    return axs"
   ]
  },
  {
   "cell_type": "code",
   "execution_count": 5,
   "id": "b96c6614",
   "metadata": {},
   "outputs": [],
   "source": [
    "# List details about GA runs\n",
    "num_gen = 20\n",
    "pop_size = 100\n",
    "num_trials = 30\n",
    "hof_size = 20"
   ]
  },
  {
   "cell_type": "code",
   "execution_count": 6,
   "id": "2b12fb0e",
   "metadata": {},
   "outputs": [],
   "source": [
    "# Generate hall of fame from the final generation\n",
    "\n",
    "best_hof, best_hof_individuals = create_hof_at_gen(\n",
    "    hof_filepath, num_gen, pop_size, num_trials, hof_size, at_gen=num_gen\n",
    ")"
   ]
  },
  {
   "cell_type": "code",
   "execution_count": 7,
   "id": "9491ded0",
   "metadata": {},
   "outputs": [],
   "source": [
    "import pandas as pd\n",
    "import numpy as np\n",
    "from see import classifiers\n",
    "from see.classifier_helpers.helpers import generate_train_test_set\n",
    "from see.classifier_helpers.fetch_data import fetch_wisconsin_data\n",
    "\n",
    "from sklearn.preprocessing import StandardScaler, label_binarize\n",
    "\n",
    "# Breast Cancer Data\n",
    "X, y = fetch_wisconsin_data()\n",
    "\n",
    "# Preprocess data\n",
    "X = StandardScaler().fit_transform(X)\n",
    "\n",
    "# Recreate training, test and validation sets\n",
    "temp = generate_train_test_set(X, y, test_size=0.2)\n",
    "validation_set = temp.testing_set\n",
    "temp = generate_train_test_set(temp.training_set.X, temp.training_set.y, test_size=0.25)\n",
    "training_set = temp.training_set\n",
    "testing_set = temp.testing_set"
   ]
  },
  {
   "cell_type": "code",
   "execution_count": 8,
   "id": "6809a6b6",
   "metadata": {},
   "outputs": [],
   "source": [
    "# Quick HACK:\n",
    "# This plot/notebook takes a long time to fully complete running\n",
    "# if it uses all of the hall of fame members (even for a specific generation).\n",
    "# For speed, we extract the first five of the hall of fame.\n",
    "# One should comment out this cell when intending to\n",
    "# create this figure with all of the data.\n",
    "\n",
    "# Comment out this cell\n",
    "# and rerun the notebook from the beginning \n",
    "# to properly making figure.\n",
    "\n",
    "# portion = best_hof\n",
    "hof_portion = best_hof[:5] # extract first 'n' members"
   ]
  },
  {
   "cell_type": "code",
   "execution_count": 9,
   "id": "ad4f877d",
   "metadata": {
    "scrolled": true
   },
   "outputs": [
    {
     "name": "stdout",
     "output_type": "stream",
     "text": [
      "0\n",
      "1\n",
      "2\n",
      "3\n",
      "4\n"
     ]
    }
   ],
   "source": [
    "# Generate learning curve Data\n",
    "train_sizes, train_matrix, validation_matrix = create_learning_curve(training_set, validation_set, hof_portion)"
   ]
  },
  {
   "cell_type": "code",
   "execution_count": 10,
   "id": "dab7c3b2",
   "metadata": {},
   "outputs": [
    {
     "data": {
      "text/plain": [
       "[<matplotlib.lines.Line2D at 0x7f683b309130>]"
      ]
     },
     "execution_count": 10,
     "metadata": {},
     "output_type": "execute_result"
    },
    {
     "data": {
      "image/png": "[encoded data removed]",
      "text/plain": [
       "<Figure size 720x360 with 1 Axes>"
      ]
     },
     "metadata": {
      "needs_background": "light"
     },
     "output_type": "display_data"
    }
   ],
   "source": [
    "axs = plot_learning_curve(train_sizes, train_matrix, validation_matrix)\n",
    "\n",
    "# Plot Expected Region during GA\n",
    "ga_mean = np.repeat(best_hof_individuals[:, 2].mean(), len(train_sizes))\n",
    "ga_std = np.repeat(best_hof_individuals[:, 2].std(), len(train_sizes))\n",
    "\n",
    "alpha = 0.3\n",
    "\n",
    "gray = \"#999999\"\n",
    "\n",
    "axs.fill_between(\n",
    "    train_sizes, ga_mean - 2 * ga_std, ga_mean + 2 * ga_std, alpha=alpha, color=gray\n",
    ")\n",
    "\n",
    "axs.plot(\n",
    "    train_sizes,\n",
    "    ga_mean,\n",
    "    \"-\",\n",
    "    color=gray,\n",
    "    label=\"Mean GA Testing Fitness\",\n",
    "    linewidth=1.5,\n",
    ")"
   ]
  }
 ],
 "metadata": {
  "kernelspec": {
   "display_name": "Python 3",
   "language": "python",
   "name": "python3"
  },
  "language_info": {
   "codemirror_mode": {
    "name": "ipython",
    "version": 3
   },
   "file_extension": ".py",
   "mimetype": "text/x-python",
   "name": "python",
   "nbconvert_exporter": "python",
   "pygments_lexer": "ipython3",
   "version": "3.9.5"
  }
 },
 "nbformat": 4,
 "nbformat_minor": 5
}
