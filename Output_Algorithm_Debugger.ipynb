{
 "cells": [
  {
   "cell_type": "markdown",
   "id": "fe62e38d",
   "metadata": {},
   "source": [
    "# Temporary file for debuging the python output option"
   ]
  },
  {
   "cell_type": "code",
   "execution_count": null,
   "id": "366ac636",
   "metadata": {},
   "outputs": [],
   "source": [
    "%matplotlib inline\n",
    "import matplotlib.pylab as plt\n",
    "import imageio\n",
    "from see import Segmentors\n",
    "from see import JupyterGUI"
   ]
  },
  {
   "cell_type": "code",
   "execution_count": null,
   "id": "f1088a62",
   "metadata": {},
   "outputs": [],
   "source": [
    "import imageio\n",
    "\n",
    "img = imageio.imread('Image_data/20220512-Tar_Spot_example/DC20_2290_TarSpot_5photo_1_2020-08-20-10-11-56.jpg_01_02.jpg')\n",
    "gmask = imageio.imread('Image_data/20220512-Tar_Spot_example/DC20_2290_TarSpot_5photo_1_2020-08-20-10-11-56.jpg_01_02_GT.png')\n",
    "\n",
    "\n",
    "\n",
    "fig = plt.figure(figsize=(20, 20))\n",
    "my_ax = fig.add_subplot(1, 2, 1)\n",
    "my_ax.imshow(img)\n",
    "my_ax = fig.add_subplot(1, 2, 2)\n",
    "my_ax.imshow(gmask)"
   ]
  },
  {
   "cell_type": "code",
   "execution_count": null,
   "id": "24409642",
   "metadata": {},
   "outputs": [],
   "source": [
    "from see import base_classes\n",
    "\n",
    "# put data in a pipeline\n",
    "data = base_classes.pipedata()\n",
    "data.img = img\n",
    "data.gmask = gmask"
   ]
  },
  {
   "cell_type": "code",
   "execution_count": null,
   "id": "03e81794",
   "metadata": {},
   "outputs": [],
   "source": [
    "from see.Segmentors import segmentor\n",
    "from see.ColorSpace import colorspace\n",
    "from see.Workflow import workflow\n",
    "from see.Segment_Fitness import segment_fitness\n",
    "from see import base_classes, GeneticSearch\n",
    "\n",
    "#define an algorithm workflow\n",
    "workflow.addalgos([colorspace, segmentor, segment_fitness])"
   ]
  },
  {
   "cell_type": "code",
   "execution_count": null,
   "id": "79da1895",
   "metadata": {},
   "outputs": [],
   "source": [
    "params =  ['RGB CIE', False, 1, 'ColorThreshold', 0.7109375, 0.875, 0.19921875, 0.40234375, 0.1640625, 0.421875, 1, 6] \n",
    "#params =  ['YUV', True, 1, 'ColorThreshold', 0.2421875, 0.453125, 0.72265625, 0.921875, 0.26953125, 0.25390625, 9, 5]"
   ]
  },
  {
   "cell_type": "code",
   "execution_count": null,
   "id": "40b7a5bb",
   "metadata": {},
   "outputs": [],
   "source": [
    "seg = workflow(params)\n",
    "data = seg.runAlgo(data)\n",
    "\n",
    "plt.figure(figsize=(20, 10))\n",
    "plt.subplot(121)\n",
    "plt.imshow(data.img)\n",
    "plt.title(\"Original Image\")\n",
    "plt.axis('off')\n",
    "\n",
    "plt.subplot(122)\n",
    "plt.imshow(data.mask)\n",
    "plt.title(\"Segmentation\")\n",
    "plt.axis('off')\n",
    "\n",
    "plt.tight_layout\n",
    "plt.show()"
   ]
  },
  {
   "cell_type": "code",
   "execution_count": null,
   "id": "bb375b63",
   "metadata": {},
   "outputs": [],
   "source": [
    "print('Fitness Value: ', data.fitness)"
   ]
  },
  {
   "cell_type": "code",
   "execution_count": null,
   "id": "47ee7f57",
   "metadata": {},
   "outputs": [],
   "source": [
    "print(seg.algorithm_code())"
   ]
  },
  {
   "cell_type": "code",
   "execution_count": null,
   "id": "9f846b38",
   "metadata": {},
   "outputs": [],
   "source": []
  },
  {
   "cell_type": "code",
   "execution_count": null,
   "id": "b1db3b3c",
   "metadata": {},
   "outputs": [],
   "source": []
  },
  {
   "cell_type": "code",
   "execution_count": null,
   "id": "1359d5cb",
   "metadata": {},
   "outputs": [],
   "source": []
  },
  {
   "cell_type": "code",
   "execution_count": null,
   "id": "aa19ac44",
   "metadata": {},
   "outputs": [],
   "source": []
  }
 ],
 "metadata": {
  "kernelspec": {
   "display_name": "Python 3 (ipykernel)",
   "language": "python",
   "name": "python3"
  },
  "language_info": {
   "codemirror_mode": {
    "name": "ipython",
    "version": 3
   },
   "file_extension": ".py",
   "mimetype": "text/x-python",
   "name": "python",
   "nbconvert_exporter": "python",
   "pygments_lexer": "ipython3",
   "version": "3.9.7"
  }
 },
 "nbformat": 4,
 "nbformat_minor": 5
}
