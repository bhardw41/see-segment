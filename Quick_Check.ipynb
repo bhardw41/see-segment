{
 "cells": [
  {
   "cell_type": "code",
   "execution_count": null,
   "id": "30688d6f-bb9f-4135-abd0-875079e40fcc",
   "metadata": {},
   "outputs": [],
   "source": [
    "%matplotlib inline\n",
    "import matplotlib.pylab as plt\n",
    "from see import Segmentors\n",
    "from see import JupyterGUI"
   ]
  },
  {
   "cell_type": "code",
   "execution_count": null,
   "id": "274307a3-653e-473e-bf20-6be9728aee97",
   "metadata": {},
   "outputs": [],
   "source": [
    "from imageio import v3 as imageio\n",
    "\n",
    "img = imageio.imread('./Image_data/Examples/a_walk_in_the_park.jpg')\n",
    "gmask = imageio.imread('./Image_data/Examples/a_walk_in_the_park_GT.jpg')\n",
    "\n",
    "img = imageio.imread('./Image_data/Examples/AA_Chameleon.jpg')\n",
    "gmask = imageio.imread('./Image_data/Examples/AA_Chameleon_GT.png')\n",
    "\n",
    "\n",
    "fig = plt.figure(figsize=(20, 20))\n",
    "my_ax = fig.add_subplot(1, 2, 1)\n",
    "my_ax.imshow(img)\n",
    "my_ax = fig.add_subplot(1, 2, 2)\n",
    "my_ax.imshow(gmask)"
   ]
  },
  {
   "cell_type": "code",
   "execution_count": null,
   "id": "d93c1f1c-ae2c-4ee0-bdad-0ff4f47f9b8f",
   "metadata": {},
   "outputs": [],
   "source": [
    "from see import base_classes\n",
    "\n",
    "# put data in a pipeline\n",
    "data = base_classes.pipedata()\n",
    "data.append(img)\n",
    "data.gtruth = gmask"
   ]
  },
  {
   "cell_type": "code",
   "execution_count": null,
   "id": "b09d8214-92c1-4074-8baa-0a5f93d1e3b7",
   "metadata": {},
   "outputs": [],
   "source": [
    "from see.Segmentors import segmentor\n",
    "from see.ColorSpace import colorspace\n",
    "from see.Workflow import workflow\n",
    "from see.Segment_Fitness import segment_fitness\n",
    "from see import base_classes, GeneticSearch\n",
    "\n",
    "#define an algorithm workflow\n",
    "workflow.addalgos([colorspace, segmentor, segment_fitness])"
   ]
  },
  {
   "cell_type": "code",
   "execution_count": null,
   "id": "28154222-5bf4-49df-aaa6-08525e4c0df2",
   "metadata": {},
   "outputs": [],
   "source": [
    "#Chameleon\n",
    "#params = ['YDbDr', True, 2, 'ColorThreshold', 0.90234375, 0.79296875, 0.48828125, 0.1953125, 0.421875, 0.50390625, 5, 5]\n",
    "#params = ['YDbDr', False, 2, 'ColorThreshold', 0.73828125, 0.55859375, 0.72265625, 0.1953125, 0.0078125, 0.44140625, 2, 7]\n",
    "\n",
    "# Walk\n",
    "params = ['YCbCr', True, 2, 'ColorThreshold', 0.35546875, 0.49609375, 0.28125, 0.87109375, 0.08984375, 0.828125, 4, 13]\n",
    "#params = ['YDbDr', True, 1, 'ColorThreshold', 0.49609375, 0.125, 0.546875, 0.0, 0.171875, 0.50390625, 8, 5]\n",
    "#params = ['YCbCr', True, 1, 'Felzenszwalb', 0.83203125, 0.390625, 0.296875, 0.87890625, 0.28515625, 0.08203125, 0, 5]"
   ]
  },
  {
   "cell_type": "code",
   "execution_count": null,
   "id": "1ebad3b5-6ca5-4727-aa0a-55dd4a2fad19",
   "metadata": {},
   "outputs": [],
   "source": [
    "workf = workflow(params)\n",
    "data = workf.pipe(data)"
   ]
  },
  {
   "cell_type": "code",
   "execution_count": null,
   "id": "b98d7d07-c25c-4d42-a36d-90e81a0f99e1",
   "metadata": {},
   "outputs": [],
   "source": [
    "plt.figure(figsize=(20, 10))\n",
    "\n",
    "for index,img in enumerate(data):\n",
    "    plt.subplot(1, len(data)+1, index+1)\n",
    "    plt.imshow(img)\n",
    "    #plt.axis('off')\n",
    "\n",
    "plt.subplot(1, len(data)+1, index+1)\n",
    "plt.subplot(1, len(data)+1, index+2)\n",
    "plt.imshow(data.gtruth)\n",
    "plt.title(data.fitness)\n",
    "plt.axis('off')\n",
    "\n",
    "\n",
    "plt.tight_layout\n",
    "plt.show()"
   ]
  },
  {
   "cell_type": "code",
   "execution_count": null,
   "id": "7ece1d0f-a8ce-45e8-ab75-cbe51ca7b489",
   "metadata": {},
   "outputs": [],
   "source": [
    "data.fitness\n"
   ]
  },
  {
   "cell_type": "code",
   "execution_count": null,
   "id": "6022e388-2f0d-4bf4-90e2-793831273493",
   "metadata": {},
   "outputs": [],
   "source": [
    "index"
   ]
  },
  {
   "cell_type": "code",
   "execution_count": null,
   "id": "db404bd1-844a-4d0f-b00c-0b27ffefd749",
   "metadata": {},
   "outputs": [],
   "source": []
  }
 ],
 "metadata": {
  "kernelspec": {
   "display_name": "Python 3",
   "language": "python",
   "name": "python3"
  },
  "language_info": {
   "codemirror_mode": {
    "name": "ipython",
    "version": 3
   },
   "file_extension": ".py",
   "mimetype": "text/x-python",
   "name": "python",
   "nbconvert_exporter": "python",
   "pygments_lexer": "ipython3",
   "version": "3.9.12"
  }
 },
 "nbformat": 4,
 "nbformat_minor": 5
}
