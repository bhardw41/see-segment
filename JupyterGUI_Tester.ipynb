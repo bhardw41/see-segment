{
 "cells": [
  {
   "cell_type": "markdown",
   "id": "ae6a5870",
   "metadata": {},
   "source": [
    "# JupyterGUI Tester\n",
    "\n",
    "\n",
    "I need a way to build widgets up and combine them....\n",
    "\n",
    "1. Need to put them on the same interface\n",
    "2. Need to be able to reset the workflow\n",
    "\n",
    "\n",
    "Maybe create a base widget class (or use an existing one).  Make a widget for each algorithm that inherits algorithm? Each widget would then act like the algorithm and allow the interface.  "
   ]
  },
  {
   "cell_type": "code",
   "execution_count": null,
   "id": "9d61bd13",
   "metadata": {},
   "outputs": [],
   "source": []
  },
  {
   "cell_type": "code",
   "execution_count": null,
   "id": "2dc88018",
   "metadata": {},
   "outputs": [],
   "source": []
  },
  {
   "cell_type": "code",
   "execution_count": null,
   "id": "72ba1501",
   "metadata": {
    "scrolled": true
   },
   "outputs": [],
   "source": [
    "%matplotlib inline\n",
    "import matplotlib.pylab as plt\n",
    "import imageio\n",
    "from see import Segmentors\n",
    "from see import JupyterGUI\n",
    "from see.Segmentors import segmentor\n",
    "from see.ColorSpace import colorspace\n",
    "from see.Workflow import workflow\n",
    "from see.Segment_Fitness import segment_fitness\n",
    "from see import base_classes, GeneticSearch\n",
    "#define algo work flow\n",
    "workflow.addalgos([colorspace, segmentor, segment_fitness])\n",
    "\n",
    "\n",
    "JupyterGUI.workflowwidget(workflow)"
   ]
  },
  {
   "cell_type": "code",
   "execution_count": null,
   "id": "a8d5a7df",
   "metadata": {},
   "outputs": [],
   "source": []
  }
 ],
 "metadata": {
  "kernelspec": {
   "display_name": "Python 3 (ipykernel)",
   "language": "python",
   "name": "python3"
  },
  "language_info": {
   "codemirror_mode": {
    "name": "ipython",
    "version": 3
   },
   "file_extension": ".py",
   "mimetype": "text/x-python",
   "name": "python",
   "nbconvert_exporter": "python",
   "pygments_lexer": "ipython3",
   "version": "3.9.7"
  }
 },
 "nbformat": 4,
 "nbformat_minor": 5
}
