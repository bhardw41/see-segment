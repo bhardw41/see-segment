{
 "cells": [
  {
   "cell_type": "markdown",
   "id": "ad956236",
   "metadata": {},
   "source": [
    "# Explore ways to read/write params to/from a file\n",
    "\n"
   ]
  },
  {
   "cell_type": "code",
   "execution_count": null,
   "id": "d245e1e2",
   "metadata": {},
   "outputs": [],
   "source": [
    "from see import base_classes "
   ]
  },
  {
   "cell_type": "code",
   "execution_count": null,
   "id": "cd6ec603",
   "metadata": {},
   "outputs": [],
   "source": [
    "from see.Segmentors import segmentor\n",
    "from see.ColorSpace import colorspace\n",
    "from see.Workflow import workflow\n",
    "from see.Segment_Fitness import segment_fitness\n",
    "\n",
    "workflow.addalgos([colorspace, segmentor, segment_fitness])\n",
    "wf = workflow()"
   ]
  },
  {
   "cell_type": "markdown",
   "id": "aa19ae5f",
   "metadata": {},
   "source": [
    "----\n",
    "\n",
    "# Use Pickle to wrap entire algorithm object\n",
    "\n",
    "This works nice assuming the algorithm is what we want to write. Dosn't work in the genetic algoirthm since it may just be a list. Although it works fairly well."
   ]
  },
  {
   "cell_type": "code",
   "execution_count": null,
   "id": "c1d1936e",
   "metadata": {},
   "outputs": [],
   "source": [
    "import pickle \n",
    "def append_algo_pickle(fpop_file, algorithm):\n",
    "    filehandler = open(fpop_file, 'ab') \n",
    "    pickle.dump(algorithm, filehandler)\n",
    "    \n",
    "def read_algo_pickle(fpop_file):\n",
    "    poplist = []\n",
    "    with (open(fpop_file, \"rb\")) as openfile:\n",
    "        while True:\n",
    "            try:\n",
    "                poplist.append(pickle.load(openfile))\n",
    "            except EOFError:\n",
    "                break\n",
    "    return poplist\n",
    "           "
   ]
  },
  {
   "cell_type": "code",
   "execution_count": null,
   "id": "ecb8c446",
   "metadata": {},
   "outputs": [],
   "source": [
    "!rm pickle_test.pk"
   ]
  },
  {
   "cell_type": "code",
   "execution_count": null,
   "id": "71afa4f0",
   "metadata": {},
   "outputs": [],
   "source": [
    "append_algo_pickle('pickle_test.pk', wf)"
   ]
  },
  {
   "cell_type": "code",
   "execution_count": null,
   "id": "39da81bb",
   "metadata": {},
   "outputs": [],
   "source": [
    "pop = read_algo_pickle('pickle_test.pk')\n",
    "pop"
   ]
  },
  {
   "cell_type": "code",
   "execution_count": null,
   "id": "cb475581",
   "metadata": {},
   "outputs": [],
   "source": [
    "!cat 'pickle_test.pk'"
   ]
  },
  {
   "cell_type": "markdown",
   "id": "5bf2abd8",
   "metadata": {},
   "source": [
    "---\n",
    "This version just saves the list"
   ]
  },
  {
   "cell_type": "code",
   "execution_count": null,
   "id": "44cd4c26",
   "metadata": {},
   "outputs": [],
   "source": [
    "!rm pickle_test.pk"
   ]
  },
  {
   "cell_type": "code",
   "execution_count": null,
   "id": "0c367adf",
   "metadata": {},
   "outputs": [],
   "source": [
    "append_algo_pickle('pickle_test.pk', wf.params.tolist())"
   ]
  },
  {
   "cell_type": "code",
   "execution_count": null,
   "id": "f7bf319a",
   "metadata": {},
   "outputs": [],
   "source": [
    "pop = read_algo_pickle('pickle_test.pk')\n",
    "pop"
   ]
  },
  {
   "cell_type": "markdown",
   "id": "1cdcfba9",
   "metadata": {},
   "source": [
    "---\n",
    "\n",
    "# Use JSON\n",
    "\n",
    "Read in as a json file. This also dosn't work as well since we can't append additional values to the list."
   ]
  },
  {
   "cell_type": "code",
   "execution_count": null,
   "id": "819243cc",
   "metadata": {},
   "outputs": [],
   "source": [
    "import json\n",
    "def append_algo_json(fpop_file, algorithm):\n",
    "    with open('json_test.json', 'w', encoding=\"utf8\") as f:\n",
    "        json.dump(algorithm, f)\n",
    "\n",
    "def read_algo_json(fpop_file):\n",
    "    with open(fpop_file, 'r') as f:\n",
    "        population = json.load(f)\n",
    "    return population"
   ]
  },
  {
   "cell_type": "code",
   "execution_count": null,
   "id": "d76db8df",
   "metadata": {},
   "outputs": [],
   "source": [
    "!rm 'json_test.json'"
   ]
  },
  {
   "cell_type": "code",
   "execution_count": null,
   "id": "adaf5c94",
   "metadata": {},
   "outputs": [],
   "source": [
    "append_algo_json('json_test.json', wf.params)"
   ]
  },
  {
   "cell_type": "code",
   "execution_count": null,
   "id": "16057320",
   "metadata": {},
   "outputs": [],
   "source": [
    "!cat 'json_test.json'"
   ]
  },
  {
   "cell_type": "code",
   "execution_count": null,
   "id": "9a09fd02",
   "metadata": {},
   "outputs": [],
   "source": [
    "pop = read_algo_json('json_test.json')"
   ]
  },
  {
   "cell_type": "markdown",
   "id": "4419b164",
   "metadata": {},
   "source": [
    "----\n",
    "\n",
    "# Basic Vector\n",
    "\n",
    "This is a more direct way to write out the list. The nice thing about this format is it is human readable.  Maybe not as flexible but easier to work wiht."
   ]
  },
  {
   "cell_type": "code",
   "execution_count": null,
   "id": "e18b5aae",
   "metadata": {},
   "outputs": [],
   "source": [
    "def write_algo_vector(fpop_file, algorithm):\n",
    "    with open(f\"{fpop_file}\", 'a') as myfile:\n",
    "        myfile.write(f'{algorithm.params.tolist().__str__()}\\n')\n",
    "        \n",
    "def read_algo_vector(fpop_file):\n",
    "    inlist = []\n",
    "    with open(f\"{fpop_file}\",'r') as myfile:\n",
    "        for line in myfile:\n",
    "            inlist.append(eval(line))\n",
    "    return inlist"
   ]
  },
  {
   "cell_type": "code",
   "execution_count": null,
   "id": "67481d26",
   "metadata": {},
   "outputs": [],
   "source": [
    "!rm 'list_test.txt'"
   ]
  },
  {
   "cell_type": "code",
   "execution_count": null,
   "id": "15274274",
   "metadata": {},
   "outputs": [],
   "source": [
    "write_algo_vector('list_test.txt', wf)"
   ]
  },
  {
   "cell_type": "code",
   "execution_count": null,
   "id": "2c4952ba",
   "metadata": {},
   "outputs": [],
   "source": [
    "!cat List_test.txt"
   ]
  },
  {
   "cell_type": "code",
   "execution_count": null,
   "id": "e80518c5",
   "metadata": {},
   "outputs": [],
   "source": [
    "params_as_list = read_algo_vector('list_test.txt')\n",
    "params_as_list"
   ]
  },
  {
   "cell_type": "markdown",
   "id": "eb552fd5",
   "metadata": {},
   "source": [
    "----\n",
    "\n",
    "# Basic Dictionary\n",
    "\n",
    "Same idea as a list but as a dictionary.  Has the same problem as the basic pickle. "
   ]
  },
  {
   "cell_type": "code",
   "execution_count": null,
   "id": "7f972197",
   "metadata": {},
   "outputs": [],
   "source": [
    "def write_algo_dict(fpop_file, params):\n",
    "    with open(f\"{fpop_file}\", 'a') as myfile:\n",
    "        myfile.write(f'{dict(params).__str__()}\\n')\n",
    "        \n",
    "def read_algo_dict(fpop_file):\n",
    "    inlist = []\n",
    "    with open(f\"{fpop_file}\",'r') as myfile:\n",
    "        for line in myfile:\n",
    "            inlist.append(eval(line))\n",
    "    return inlist"
   ]
  },
  {
   "cell_type": "code",
   "execution_count": null,
   "id": "454d10c1",
   "metadata": {},
   "outputs": [],
   "source": [
    "!rm 'dict_test.txt'"
   ]
  },
  {
   "cell_type": "code",
   "execution_count": null,
   "id": "f55a94f6",
   "metadata": {},
   "outputs": [],
   "source": [
    "write_algo_dict('dict_test.txt', wf.params)"
   ]
  },
  {
   "cell_type": "code",
   "execution_count": null,
   "id": "9e8992f5",
   "metadata": {},
   "outputs": [],
   "source": [
    "!cat dict_test.txt"
   ]
  },
  {
   "cell_type": "code",
   "execution_count": null,
   "id": "9297f891",
   "metadata": {},
   "outputs": [],
   "source": [
    "params_as_dict = read_algo_vector('dict_test.txt')\n",
    "params_as_dict"
   ]
  },
  {
   "cell_type": "markdown",
   "id": "8603e308",
   "metadata": {},
   "source": [
    "# Testing in SEE\n"
   ]
  },
  {
   "cell_type": "code",
   "execution_count": null,
   "id": "7a23a259",
   "metadata": {},
   "outputs": [],
   "source": [
    "from see import base_classes"
   ]
  },
  {
   "cell_type": "code",
   "execution_count": null,
   "id": "db171b6b",
   "metadata": {},
   "outputs": [],
   "source": [
    "import imageio\n",
    "img = imageio.imread('Image_data/Examples/AA_Chameleon.jpg')\n",
    "gmask = imageio.imread('Image_data/Examples/AA_Chameleon_GT.png')\n",
    "\n",
    "mydata = base_classes.pipedata()"
   ]
  },
  {
   "cell_type": "code",
   "execution_count": null,
   "id": "bb023ce1",
   "metadata": {
    "scrolled": true
   },
   "outputs": [],
   "source": [
    "from see.Segmentors import segmentor\n",
    "from see.ColorSpace import colorspace\n",
    "from see.Workflow import workflow\n",
    "from see.Segment_Fitness import segment_fitness\n",
    "\n",
    "workflow.addalgos([colorspace, segmentor, segment_fitness])\n",
    "wf = workflow()\n",
    "print(wf)"
   ]
  },
  {
   "cell_type": "code",
   "execution_count": null,
   "id": "bffd2b48",
   "metadata": {},
   "outputs": [],
   "source": [
    "from see import GeneticSearch"
   ]
  },
  {
   "cell_type": "code",
   "execution_count": null,
   "id": "e4a5776a",
   "metadata": {},
   "outputs": [],
   "source": [
    "my_evolver = GeneticSearch.Evolver(workflow, mydata, pop_size=10)"
   ]
  },
  {
   "cell_type": "code",
   "execution_count": null,
   "id": "eaedf684",
   "metadata": {},
   "outputs": [],
   "source": [
    "test = my_evolver.newpopulation()"
   ]
  },
  {
   "cell_type": "code",
   "execution_count": null,
   "id": "9903555f",
   "metadata": {},
   "outputs": [],
   "source": [
    "for ind in test:\n",
    "    GeneticSearch.write_algo_vector(\"Dirktest.txt\", ind)"
   ]
  },
  {
   "cell_type": "code",
   "execution_count": null,
   "id": "15ff9d72",
   "metadata": {},
   "outputs": [],
   "source": [
    "test2 = GeneticSearch.read_algo_vector(\"Dirktest.txt\")\n",
    "test3 = my_evolver.copy_pop_list(test2)"
   ]
  },
  {
   "cell_type": "code",
   "execution_count": null,
   "id": "0008580b",
   "metadata": {},
   "outputs": [],
   "source": [
    "type(test3[0])"
   ]
  },
  {
   "cell_type": "code",
   "execution_count": null,
   "id": "0e57e3db",
   "metadata": {
    "scrolled": true
   },
   "outputs": [],
   "source": [
    "!cat Dirktest.txt\n"
   ]
  },
  {
   "cell_type": "code",
   "execution_count": null,
   "id": "d790e5f4",
   "metadata": {},
   "outputs": [],
   "source": [
    "from pathlib import Path"
   ]
  },
  {
   "cell_type": "code",
   "execution_count": null,
   "id": "9363d732",
   "metadata": {},
   "outputs": [],
   "source": [
    "filen = Path('Dirktest.txt')"
   ]
  },
  {
   "cell_type": "code",
   "execution_count": null,
   "id": "aa6c9238",
   "metadata": {},
   "outputs": [],
   "source": [
    "dir(filen)"
   ]
  },
  {
   "cell_type": "code",
   "execution_count": null,
   "id": "263a7c9a",
   "metadata": {},
   "outputs": [],
   "source": [
    "filen.suffix"
   ]
  },
  {
   "cell_type": "code",
   "execution_count": null,
   "id": "4aaed9c5",
   "metadata": {},
   "outputs": [],
   "source": []
  }
 ],
 "metadata": {
  "kernelspec": {
   "display_name": "Python 3",
   "language": "python",
   "name": "python3"
  },
  "language_info": {
   "codemirror_mode": {
    "name": "ipython",
    "version": 3
   },
   "file_extension": ".py",
   "mimetype": "text/x-python",
   "name": "python",
   "nbconvert_exporter": "python",
   "pygments_lexer": "ipython3",
   "version": "3.9.5"
  }
 },
 "nbformat": 4,
 "nbformat_minor": 5
}
